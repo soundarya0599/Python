{
 "cells": [
  {
   "cell_type": "markdown",
   "metadata": {},
   "source": [
    "# <center>PROGRAM 10:LINEAR ALGEBRA USING NUMPY </center>\n",
    "\n",
    "---"
   ]
  },
  {
   "cell_type": "markdown",
   "metadata": {},
   "source": [
    "**Requirement:**\n",
    "    \n",
    "  Create 2 random  square matrices and perform matrix addition, matrix multiplication, transpose, determinant and inverse of a matrix without using inbuilt function. Validate your result with the help of built in function both the output should be same."
   ]
  },
  {
   "cell_type": "markdown",
   "metadata": {},
   "source": [
    "### INDEX:\n",
    "   **1.Two Random Square Matrices[Integer values]**\n",
    "   \n",
    "       1.1. Adding Matrices\n",
    "       1.2. Matrix multiplication\n",
    "            1.2.1 element wise\n",
    "            1.2.2 matrix product of 2 arrays\n",
    "            1.2.3 dot product of 2 arrays\n",
    "       1.3. Transpose of a Matrix\n",
    "       1.4. Determinant of a Matrix\n",
    "       1.5. Inverse of a Matrix\n",
    "            1.5.1 2x2 matrix\n",
    "            1.5.2 nxn matrix\n",
    "       \n",
    "   **2.Two Random Square Matrices[Floating values]**\n",
    "   \n",
    "       2.1. Adding Matrices\n",
    "       2.2. Matrix multiplication\n",
    "            2.2.1 element wise\n",
    "            2.2.2 matrix product of 2 arrays\n",
    "            2.2.3 dot product of 2 arrays\n",
    "       2.3. Transpose of a Matrix\n",
    "       2.4. Determinant of a Matrix\n",
    "       2.5. Inverse of a Matrix\n",
    "            2.5.1 2x2 matrix\n",
    "            2.5.2 nxn matrix"
   ]
  },
  {
   "cell_type": "code",
   "execution_count": 2,
   "metadata": {},
   "outputs": [],
   "source": [
    "import numpy as np\n",
    "from scipy import linalg"
   ]
  },
  {
   "cell_type": "markdown",
   "metadata": {},
   "source": [
    "## 1. Two Random Square Matrices \n",
    "#### [ Integer Values ]"
   ]
  },
  {
   "cell_type": "code",
   "execution_count": 3,
   "metadata": {},
   "outputs": [
    {
     "data": {
      "text/plain": [
       "matrix([[9, 9, 5],\n",
       "        [4, 6, 1],\n",
       "        [8, 8, 9]])"
      ]
     },
     "execution_count": 3,
     "metadata": {},
     "output_type": "execute_result"
    }
   ],
   "source": [
    "rand_matrix1 = np.random.randint(10, size=(3, 3))\n",
    "np.matrix(rand_matrix1)"
   ]
  },
  {
   "cell_type": "code",
   "execution_count": 4,
   "metadata": {},
   "outputs": [
    {
     "data": {
      "text/plain": [
       "matrix([[9, 4, 7],\n",
       "        [4, 6, 9],\n",
       "        [9, 4, 0]])"
      ]
     },
     "execution_count": 4,
     "metadata": {},
     "output_type": "execute_result"
    }
   ],
   "source": [
    "rand_matrix2 = np.random.randint(10, size=(3, 3))\n",
    "np.matrix(rand_matrix2)"
   ]
  },
  {
   "cell_type": "code",
   "execution_count": 5,
   "metadata": {},
   "outputs": [
    {
     "data": {
      "text/plain": [
       "matrix([[6, 3],\n",
       "        [0, 9]])"
      ]
     },
     "execution_count": 5,
     "metadata": {},
     "output_type": "execute_result"
    }
   ],
   "source": [
    "rand_matrix3 = np.random.randint(10, size=(2, 2))\n",
    "np.matrix(rand_matrix3)"
   ]
  },
  {
   "cell_type": "markdown",
   "metadata": {},
   "source": [
    "### 1.1. Adding Matrices"
   ]
  },
  {
   "cell_type": "code",
   "execution_count": 6,
   "metadata": {},
   "outputs": [],
   "source": [
    "# without built-in function\n",
    "\n",
    "M1_Add  = np.zeros((3, 3))\n",
    "\n",
    "for i in range(len(rand_matrix1)):\n",
    "    for k in range(len(rand_matrix2)):\n",
    "        M1_Add[i][k] = rand_matrix1[i][k] + rand_matrix2[i][k]"
   ]
  },
  {
   "cell_type": "code",
   "execution_count": 7,
   "metadata": {},
   "outputs": [
    {
     "data": {
      "text/plain": [
       "matrix([[18., 13., 12.],\n",
       "        [ 8., 12., 10.],\n",
       "        [17., 12.,  9.]])"
      ]
     },
     "execution_count": 7,
     "metadata": {},
     "output_type": "execute_result"
    }
   ],
   "source": [
    "np.matrix(M1_Add)"
   ]
  },
  {
   "cell_type": "code",
   "execution_count": 8,
   "metadata": {},
   "outputs": [
    {
     "data": {
      "text/plain": [
       "matrix([[18, 13, 12],\n",
       "        [ 8, 12, 10],\n",
       "        [17, 12,  9]])"
      ]
     },
     "execution_count": 8,
     "metadata": {},
     "output_type": "execute_result"
    }
   ],
   "source": [
    "# built-in function\n",
    "\n",
    "M1_Add1 = np.add(rand_matrix1,rand_matrix2)    \n",
    "np.matrix(M1_Add1)"
   ]
  },
  {
   "cell_type": "markdown",
   "metadata": {},
   "source": [
    "### 1.2. Matrix Multiplication "
   ]
  },
  {
   "cell_type": "markdown",
   "metadata": {},
   "source": [
    "#### [element wise matrix multiplication]"
   ]
  },
  {
   "cell_type": "code",
   "execution_count": 9,
   "metadata": {},
   "outputs": [],
   "source": [
    "# without built-in function\n",
    "\n",
    "M1_mul= np.zeros((3, 3))\n",
    "\n",
    "for i in range(len(rand_matrix1)):\n",
    "    for k in range(len(rand_matrix2)):\n",
    "        M1_mul[i][k] = rand_matrix1[i][k] * rand_matrix2[i][k]"
   ]
  },
  {
   "cell_type": "code",
   "execution_count": 10,
   "metadata": {},
   "outputs": [
    {
     "data": {
      "text/plain": [
       "matrix([[81., 36., 35.],\n",
       "        [16., 36.,  9.],\n",
       "        [72., 32.,  0.]])"
      ]
     },
     "execution_count": 10,
     "metadata": {},
     "output_type": "execute_result"
    }
   ],
   "source": [
    "np.matrix(M1_mul)"
   ]
  },
  {
   "cell_type": "code",
   "execution_count": 11,
   "metadata": {},
   "outputs": [
    {
     "data": {
      "text/plain": [
       "matrix([[81, 36, 35],\n",
       "        [16, 36,  9],\n",
       "        [72, 32,  0]])"
      ]
     },
     "execution_count": 11,
     "metadata": {},
     "output_type": "execute_result"
    }
   ],
   "source": [
    "# built-in function\n",
    "\n",
    "M1_mul1 = np.multiply(rand_matrix1,rand_matrix2)\n",
    "np.matrix(M1_mul1)"
   ]
  },
  {
   "cell_type": "markdown",
   "metadata": {},
   "source": [
    "#### [matrix product of two arrays]"
   ]
  },
  {
   "cell_type": "code",
   "execution_count": 12,
   "metadata": {},
   "outputs": [],
   "source": [
    "# without built-in function\n",
    "\n",
    "def Matrix_mul(a,b):\n",
    "    c = []\n",
    "    for i in range(0,len(a)):\n",
    "        temp=[]\n",
    "        for j in range(0,len(b[0])):\n",
    "            s = 0\n",
    "            for k in range(0,len(a[0])):\n",
    "                s += a[i][k]*b[k][j]\n",
    "            temp.append(s)\n",
    "        c.append(temp)\n",
    "    return c"
   ]
  },
  {
   "cell_type": "code",
   "execution_count": 13,
   "metadata": {},
   "outputs": [
    {
     "data": {
      "text/plain": [
       "matrix([[162, 110, 144],\n",
       "        [ 69,  56,  82],\n",
       "        [185, 116, 128]])"
      ]
     },
     "execution_count": 13,
     "metadata": {},
     "output_type": "execute_result"
    }
   ],
   "source": [
    "k=Matrix_mul(rand_matrix1, rand_matrix2)\n",
    "np.matrix(k)"
   ]
  },
  {
   "cell_type": "code",
   "execution_count": 14,
   "metadata": {},
   "outputs": [
    {
     "data": {
      "text/plain": [
       "matrix([[162, 110, 144],\n",
       "        [ 69,  56,  82],\n",
       "        [185, 116, 128]])"
      ]
     },
     "execution_count": 14,
     "metadata": {},
     "output_type": "execute_result"
    }
   ],
   "source": [
    "# built-in function\n",
    "\n",
    "M2_mul2 = np.matmul(rand_matrix1,rand_matrix2)\n",
    "np.matrix(M2_mul2)"
   ]
  },
  {
   "cell_type": "markdown",
   "metadata": {},
   "source": [
    "#### [dot product of two arrays]"
   ]
  },
  {
   "cell_type": "code",
   "execution_count": 15,
   "metadata": {},
   "outputs": [],
   "source": [
    "# without built-in function\n",
    "\n",
    "def Matrix_mul(a,b):\n",
    "    c = []\n",
    "    for i in range(0,len(a)):\n",
    "        temp=[]\n",
    "        for j in range(0,len(b[0])):\n",
    "            s = 0\n",
    "            for k in range(0,len(a[0])):\n",
    "                s += a[i][k]*b[k][j]\n",
    "            temp.append(s)\n",
    "        c.append(temp)\n",
    "    return c"
   ]
  },
  {
   "cell_type": "code",
   "execution_count": 16,
   "metadata": {},
   "outputs": [
    {
     "data": {
      "text/plain": [
       "matrix([[162, 110, 144],\n",
       "        [ 69,  56,  82],\n",
       "        [185, 116, 128]])"
      ]
     },
     "execution_count": 16,
     "metadata": {},
     "output_type": "execute_result"
    }
   ],
   "source": [
    "k=Matrix_mul(rand_matrix1, rand_matrix2)\n",
    "np.matrix(k)"
   ]
  },
  {
   "cell_type": "code",
   "execution_count": 17,
   "metadata": {},
   "outputs": [
    {
     "data": {
      "text/plain": [
       "array([[162, 110, 144],\n",
       "       [ 69,  56,  82],\n",
       "       [185, 116, 128]])"
      ]
     },
     "execution_count": 17,
     "metadata": {},
     "output_type": "execute_result"
    }
   ],
   "source": [
    "# built-in function\n",
    "\n",
    "M2_mul3 = rand_matrix1.dot(rand_matrix2)\n",
    "M2_mul3"
   ]
  },
  {
   "cell_type": "markdown",
   "metadata": {},
   "source": [
    "### 1.3. Transpose of a Matrix"
   ]
  },
  {
   "cell_type": "code",
   "execution_count": 18,
   "metadata": {},
   "outputs": [],
   "source": [
    "# without built-in function\n",
    "\n",
    "def Mat_Trans(X):\n",
    "    M2_Trans= np.zeros((3, 3))\n",
    "    \n",
    "    for i in range(len(X)):\n",
    "        for j in range(len(X[0])):\n",
    "            M2_Trans[j][i] = X[i][j]\n",
    "\n",
    "    return M2_Trans\n",
    "    "
   ]
  },
  {
   "cell_type": "code",
   "execution_count": 19,
   "metadata": {},
   "outputs": [
    {
     "data": {
      "text/plain": [
       "matrix([[9., 4., 8.],\n",
       "        [9., 6., 8.],\n",
       "        [5., 1., 9.]])"
      ]
     },
     "execution_count": 19,
     "metadata": {},
     "output_type": "execute_result"
    }
   ],
   "source": [
    "m=Mat_Trans(rand_matrix1)\n",
    "np.matrix(m)"
   ]
  },
  {
   "cell_type": "code",
   "execution_count": 20,
   "metadata": {},
   "outputs": [
    {
     "data": {
      "text/plain": [
       "matrix([[9, 4, 8],\n",
       "        [9, 6, 8],\n",
       "        [5, 1, 9]])"
      ]
     },
     "execution_count": 20,
     "metadata": {},
     "output_type": "execute_result"
    }
   ],
   "source": [
    "# built-in function\n",
    "\n",
    "m1=rand_matrix1.transpose()\n",
    "np.matrix(m1)"
   ]
  },
  {
   "cell_type": "markdown",
   "metadata": {},
   "source": [
    "### 1.4. Determinant of a Matrix"
   ]
  },
  {
   "cell_type": "code",
   "execution_count": 21,
   "metadata": {},
   "outputs": [],
   "source": [
    "# without built-in function\n",
    "\n",
    "def determinant(a):\n",
    "    assert len(a.shape) == 2 \n",
    "    assert a.shape[0] == a.shape[1] \n",
    "    n = a.shape[0]\n",
    "   \n",
    "    for k in range(0, n-1):\n",
    "       \n",
    "        for i in range(k+1, n):\n",
    "            if a[i,k] != 0.0:\n",
    "                lam = a [i,k]/a[k,k]\n",
    "                a[i,k:n] = a[i,k:n] - lam*a[k,k:n]\n",
    "                \n",
    "    return np.prod(np.diag(a))"
   ]
  },
  {
   "cell_type": "code",
   "execution_count": 22,
   "metadata": {},
   "outputs": [
    {
     "data": {
      "text/plain": [
       "72"
      ]
     },
     "execution_count": 22,
     "metadata": {},
     "output_type": "execute_result"
    }
   ],
   "source": [
    "determinant(rand_matrix1)"
   ]
  },
  {
   "cell_type": "code",
   "execution_count": 23,
   "metadata": {},
   "outputs": [
    {
     "data": {
      "text/plain": [
       "72.0"
      ]
     },
     "execution_count": 23,
     "metadata": {},
     "output_type": "execute_result"
    }
   ],
   "source": [
    "# built-in function\n",
    "\n",
    "np.linalg.det(rand_matrix1)\n"
   ]
  },
  {
   "cell_type": "markdown",
   "metadata": {},
   "source": [
    "### 1.5. Inverse of a Matrix"
   ]
  },
  {
   "cell_type": "code",
   "execution_count": 24,
   "metadata": {},
   "outputs": [],
   "source": [
    "# without built-in function\n",
    "\n",
    "def getMatrixMinor(m,i,j):\n",
    "    return [row[:j] + row[j+1:] for row in (m[:i]+m[i+1:])]\n",
    "\n",
    "def getMatrixInverse(m):\n",
    "    determinant = np.linalg.det(m)\n",
    "    #special case for 2x2 matrix:\n",
    "    if len(m) == 2:\n",
    "        return [[m[1][1]/determinant, -1*m[0][1]/determinant],\n",
    "                [-1*m[1][0]/determinant, m[0][0]/determinant]]\n",
    "\n",
    "    #find matrix of cofactors\n",
    "    cofactors = []\n",
    "    for r in range(len(m)):\n",
    "        cofactorRow = []\n",
    "        for c in range(len(m)):\n",
    "            minor = getMatrixMinor(m,r,c)\n",
    "            cofactorRow.append(((-1)**(r+c)) * getMatrixDeternminant(minor))\n",
    "        cofactors.append(cofactorRow)\n",
    "    cofactors = cofactors.transpose()\n",
    "    for r in range(len(cofactors)):\n",
    "        for c in range(len(cofactors)):\n",
    "            cofactors[r][c] = cofactors[r][c]/determinant\n",
    "    return cofactors"
   ]
  },
  {
   "cell_type": "code",
   "execution_count": 25,
   "metadata": {},
   "outputs": [
    {
     "data": {
      "text/plain": [
       "matrix([[ 0.16666667, -0.05555556],\n",
       "        [ 0.        ,  0.11111111]])"
      ]
     },
     "execution_count": 25,
     "metadata": {},
     "output_type": "execute_result"
    }
   ],
   "source": [
    "m3=getMatrixInverse(rand_matrix3)\n",
    "np.matrix(m3)"
   ]
  },
  {
   "cell_type": "code",
   "execution_count": 26,
   "metadata": {},
   "outputs": [
    {
     "data": {
      "text/plain": [
       "matrix([[ 0.16666667, -0.05555556],\n",
       "        [ 0.        ,  0.11111111]])"
      ]
     },
     "execution_count": 26,
     "metadata": {},
     "output_type": "execute_result"
    }
   ],
   "source": [
    "# built-in function\n",
    "\n",
    "m4=np.linalg.inv(rand_matrix3)\n",
    "np.matrix(m4)"
   ]
  },
  {
   "cell_type": "markdown",
   "metadata": {},
   "source": [
    "#### n x n matrix"
   ]
  },
  {
   "cell_type": "code",
   "execution_count": 27,
   "metadata": {},
   "outputs": [],
   "source": [
    "def inversematrix(M1,s):\n",
    "    M=np.copy(M1)\n",
    "    I=np.eye(s,dtype='float64')\n",
    "    M=M.astype('float64')\n",
    "\n",
    "    for i in range(0,s):\n",
    "        a1=M[i,i]\n",
    "        I[i]=I[i]/a1\n",
    "        M[i]=M[i]/a1\n",
    "        if i==0:\n",
    "            for j in range(i+1,s):\n",
    "                a2=M[j,i]\n",
    "                I[j]=I[j]-I[i]*a2\n",
    "                M[j]=M[j]-M[i]*a2\n",
    "        else:\n",
    "            L=list(range(0,s))\n",
    "            L.remove(i)\n",
    "            for j in L:\n",
    "                a2=M[j,i]\n",
    "                I[j]=I[j]-I[i]*a2\n",
    "                M[j]=M[j]-M[i]*a2\n",
    "    return I"
   ]
  },
  {
   "cell_type": "code",
   "execution_count": 28,
   "metadata": {},
   "outputs": [
    {
     "data": {
      "text/plain": [
       "matrix([[ 0.11111111, -0.5       , -0.26388889],\n",
       "        [ 0.        ,  0.5       ,  0.125     ],\n",
       "        [ 0.        ,  0.        ,  0.25      ]])"
      ]
     },
     "execution_count": 28,
     "metadata": {},
     "output_type": "execute_result"
    }
   ],
   "source": [
    "# without built-in function\n",
    "s=rand_matrix1.shape\n",
    "inv=inversematrix(rand_matrix1,s[0])\n",
    "np.matrix(inv)"
   ]
  },
  {
   "cell_type": "code",
   "execution_count": 29,
   "metadata": {},
   "outputs": [
    {
     "data": {
      "text/plain": [
       "matrix([[ 0.11111111, -0.5       , -0.26388889],\n",
       "        [ 0.        ,  0.5       ,  0.125     ],\n",
       "        [ 0.        ,  0.        ,  0.25      ]])"
      ]
     },
     "execution_count": 29,
     "metadata": {},
     "output_type": "execute_result"
    }
   ],
   "source": [
    "# built-in function\n",
    "inv1=np.linalg.inv(rand_matrix1)\n",
    "np.matrix(inv1)"
   ]
  },
  {
   "cell_type": "markdown",
   "metadata": {},
   "source": [
    "## 2. Two Random Square Matrices \n",
    "#### [ Floating Values ]"
   ]
  },
  {
   "cell_type": "code",
   "execution_count": 30,
   "metadata": {},
   "outputs": [
    {
     "data": {
      "text/plain": [
       "matrix([[0.75122206, 0.60382605, 0.00111868],\n",
       "        [0.35650984, 0.93741511, 0.99686101],\n",
       "        [0.31066982, 0.0255548 , 0.74108756]])"
      ]
     },
     "execution_count": 30,
     "metadata": {},
     "output_type": "execute_result"
    }
   ],
   "source": [
    "random_matrix1 = np.random.rand(3, 3)\n",
    "np.matrix(random_matrix1)"
   ]
  },
  {
   "cell_type": "code",
   "execution_count": 31,
   "metadata": {},
   "outputs": [
    {
     "data": {
      "text/plain": [
       "matrix([[0.86753739, 0.02138478, 0.10084754],\n",
       "        [0.9012808 , 0.41652693, 0.27279477],\n",
       "        [0.76776928, 0.87033751, 0.74405778]])"
      ]
     },
     "execution_count": 31,
     "metadata": {},
     "output_type": "execute_result"
    }
   ],
   "source": [
    "random_matrix2 = np.random.rand(3, 3)\n",
    "np.matrix(random_matrix2)"
   ]
  },
  {
   "cell_type": "code",
   "execution_count": 32,
   "metadata": {},
   "outputs": [
    {
     "data": {
      "text/plain": [
       "matrix([[0.27510424, 0.93309674],\n",
       "        [0.02523341, 0.64379028]])"
      ]
     },
     "execution_count": 32,
     "metadata": {},
     "output_type": "execute_result"
    }
   ],
   "source": [
    "random_matrix3 = np.random.rand(2, 2)\n",
    "np.matrix(random_matrix3)"
   ]
  },
  {
   "cell_type": "markdown",
   "metadata": {},
   "source": [
    "### 2.1. Adding Matrices"
   ]
  },
  {
   "cell_type": "code",
   "execution_count": 33,
   "metadata": {},
   "outputs": [],
   "source": [
    "# without built-in function\n",
    "\n",
    "def Mat_Add(A,B):\n",
    "    M2_Add= np.zeros((3, 3))\n",
    "\n",
    "    for i in range(len(random_matrix1)):\n",
    "        for j in range(len(random_matrix2)):\n",
    "            M2_Add[i][j] = random_matrix1[i][j] + random_matrix2[i][j]\n",
    "\n",
    "    return M2_Add"
   ]
  },
  {
   "cell_type": "code",
   "execution_count": 34,
   "metadata": {},
   "outputs": [
    {
     "data": {
      "text/plain": [
       "matrix([[1.61875945, 0.62521083, 0.10196622],\n",
       "        [1.25779064, 1.35394204, 1.26965578],\n",
       "        [1.0784391 , 0.89589231, 1.48514534]])"
      ]
     },
     "execution_count": 34,
     "metadata": {},
     "output_type": "execute_result"
    }
   ],
   "source": [
    "M1=Mat_Add(random_matrix1,random_matrix2)\n",
    "np.matrix(M1)"
   ]
  },
  {
   "cell_type": "code",
   "execution_count": 35,
   "metadata": {},
   "outputs": [
    {
     "data": {
      "text/plain": [
       "matrix([[1.61875945, 0.62521083, 0.10196622],\n",
       "        [1.25779064, 1.35394204, 1.26965578],\n",
       "        [1.0784391 , 0.89589231, 1.48514534]])"
      ]
     },
     "execution_count": 35,
     "metadata": {},
     "output_type": "execute_result"
    }
   ],
   "source": [
    "# built-in function\n",
    "\n",
    "M1_Add1 = np.add(random_matrix1,random_matrix2)    \n",
    "np.matrix(M1_Add1)"
   ]
  },
  {
   "cell_type": "markdown",
   "metadata": {},
   "source": [
    "### 2.2. Matrix Multiplication "
   ]
  },
  {
   "cell_type": "markdown",
   "metadata": {},
   "source": [
    "#### [element wise matrix multiplication]"
   ]
  },
  {
   "cell_type": "code",
   "execution_count": 36,
   "metadata": {},
   "outputs": [
    {
     "data": {
      "text/plain": [
       "matrix([[6.51713225e-01, 1.29126857e-02, 1.12816002e-04],\n",
       "        [3.21315477e-01, 3.90458640e-01, 2.71938474e-01],\n",
       "        [2.38522745e-01, 2.22413005e-02, 5.51411966e-01]])"
      ]
     },
     "execution_count": 36,
     "metadata": {},
     "output_type": "execute_result"
    }
   ],
   "source": [
    "# without built-in function\n",
    "\n",
    "M2_mul= np.zeros((3, 3))\n",
    "\n",
    "for i in range(len(random_matrix1)):\n",
    "    for k in range(len(random_matrix2)):\n",
    "        M2_mul[i][k] = random_matrix1[i][k] * random_matrix2[i][k]\n",
    "        \n",
    "np.matrix(M2_mul)\n"
   ]
  },
  {
   "cell_type": "code",
   "execution_count": 37,
   "metadata": {},
   "outputs": [
    {
     "data": {
      "text/plain": [
       "matrix([[6.51713225e-01, 1.29126857e-02, 1.12816002e-04],\n",
       "        [3.21315477e-01, 3.90458640e-01, 2.71938474e-01],\n",
       "        [2.38522745e-01, 2.22413005e-02, 5.51411966e-01]])"
      ]
     },
     "execution_count": 37,
     "metadata": {},
     "output_type": "execute_result"
    }
   ],
   "source": [
    "# built-in function\n",
    "\n",
    "M2_mul1 = np.multiply(random_matrix1,random_matrix2)\n",
    "np.matrix(M2_mul1)"
   ]
  },
  {
   "cell_type": "markdown",
   "metadata": {},
   "source": [
    "#### [matrix product of two arrays]"
   ]
  },
  {
   "cell_type": "code",
   "execution_count": 38,
   "metadata": {},
   "outputs": [],
   "source": [
    "def Matrix_mul(a,b):\n",
    "    c = []\n",
    "    for i in range(0,len(a)):\n",
    "        temp=[]\n",
    "        for j in range(0,len(b[0])):\n",
    "            s = 0\n",
    "            for k in range(0,len(a[0])):\n",
    "                s += a[i][k]*b[k][j]\n",
    "            temp.append(s)\n",
    "        c.append(temp)\n",
    "    return c"
   ]
  },
  {
   "cell_type": "code",
   "execution_count": 39,
   "metadata": {},
   "outputs": [
    {
     "data": {
      "text/plain": [
       "matrix([[1.19678894, 0.26854816, 0.24131185],\n",
       "        [1.91951912, 1.26568805, 1.03339728],\n",
       "        [0.861534  , 0.66228417, 0.58971347]])"
      ]
     },
     "execution_count": 39,
     "metadata": {},
     "output_type": "execute_result"
    }
   ],
   "source": [
    "M2=Matrix_mul(random_matrix1, random_matrix2)\n",
    "np.matrix(M2)"
   ]
  },
  {
   "cell_type": "code",
   "execution_count": 40,
   "metadata": {},
   "outputs": [
    {
     "data": {
      "text/plain": [
       "matrix([[1.19678894, 0.26854816, 0.24131185],\n",
       "        [1.91951912, 1.26568805, 1.03339728],\n",
       "        [0.861534  , 0.66228417, 0.58971347]])"
      ]
     },
     "execution_count": 40,
     "metadata": {},
     "output_type": "execute_result"
    }
   ],
   "source": [
    "# built-in function\n",
    "\n",
    "M2_mul2 = np.matmul(random_matrix1,random_matrix2)\n",
    "np.matrix(M2_mul2)"
   ]
  },
  {
   "cell_type": "markdown",
   "metadata": {},
   "source": [
    "#### [dot product of two arrays]"
   ]
  },
  {
   "cell_type": "code",
   "execution_count": 41,
   "metadata": {},
   "outputs": [],
   "source": [
    "def Matrix_mul(a,b):\n",
    "    c = []\n",
    "    for i in range(0,len(a)):\n",
    "        temp=[]\n",
    "        for j in range(0,len(b[0])):\n",
    "            s = 0\n",
    "            for k in range(0,len(a[0])):\n",
    "                s += a[i][k]*b[k][j]\n",
    "            temp.append(s)\n",
    "        c.append(temp)\n",
    "    return c"
   ]
  },
  {
   "cell_type": "code",
   "execution_count": 42,
   "metadata": {},
   "outputs": [
    {
     "data": {
      "text/plain": [
       "matrix([[1.19678894, 0.26854816, 0.24131185],\n",
       "        [1.91951912, 1.26568805, 1.03339728],\n",
       "        [0.861534  , 0.66228417, 0.58971347]])"
      ]
     },
     "execution_count": 42,
     "metadata": {},
     "output_type": "execute_result"
    }
   ],
   "source": [
    "M3=Matrix_mul(random_matrix1, random_matrix2)\n",
    "np.matrix(M3)"
   ]
  },
  {
   "cell_type": "code",
   "execution_count": 43,
   "metadata": {},
   "outputs": [
    {
     "data": {
      "text/plain": [
       "matrix([[1.19678894, 0.26854816, 0.24131185],\n",
       "        [1.91951912, 1.26568805, 1.03339728],\n",
       "        [0.861534  , 0.66228417, 0.58971347]])"
      ]
     },
     "execution_count": 43,
     "metadata": {},
     "output_type": "execute_result"
    }
   ],
   "source": [
    "# built-in function\n",
    "\n",
    "M2_mul3 = random_matrix1.dot(random_matrix2)\n",
    "np.matrix(M2_mul3)"
   ]
  },
  {
   "cell_type": "markdown",
   "metadata": {},
   "source": [
    "### 2.3. Transpose of a Matrix"
   ]
  },
  {
   "cell_type": "code",
   "execution_count": 44,
   "metadata": {},
   "outputs": [],
   "source": [
    "# without built-in function\n",
    "\n",
    "def Mat_Trans(X):\n",
    "    M2_Trans= np.zeros((3, 3))\n",
    "    \n",
    "    for i in range(len(X)):\n",
    "        for j in range(len(X[0])):\n",
    "            M2_Trans[j][i] = X[i][j]\n",
    "\n",
    "    return M2_Trans\n",
    "        "
   ]
  },
  {
   "cell_type": "code",
   "execution_count": 45,
   "metadata": {},
   "outputs": [
    {
     "data": {
      "text/plain": [
       "matrix([[0.75122206, 0.35650984, 0.31066982],\n",
       "        [0.60382605, 0.93741511, 0.0255548 ],\n",
       "        [0.00111868, 0.99686101, 0.74108756]])"
      ]
     },
     "execution_count": 45,
     "metadata": {},
     "output_type": "execute_result"
    }
   ],
   "source": [
    "M4=Mat_Trans(random_matrix1)\n",
    "np.matrix(M4)"
   ]
  },
  {
   "cell_type": "code",
   "execution_count": 46,
   "metadata": {},
   "outputs": [
    {
     "data": {
      "text/plain": [
       "matrix([[0.75122206, 0.35650984, 0.31066982],\n",
       "        [0.60382605, 0.93741511, 0.0255548 ],\n",
       "        [0.00111868, 0.99686101, 0.74108756]])"
      ]
     },
     "execution_count": 46,
     "metadata": {},
     "output_type": "execute_result"
    }
   ],
   "source": [
    "# built-in function\n",
    "\n",
    "M5=random_matrix1.transpose()\n",
    "np.matrix(M5)"
   ]
  },
  {
   "cell_type": "markdown",
   "metadata": {},
   "source": [
    "### 2.4. Determinant of a Matrix"
   ]
  },
  {
   "cell_type": "code",
   "execution_count": 47,
   "metadata": {},
   "outputs": [],
   "source": [
    "# without built-in function\n",
    "\n",
    "def determinant(a):\n",
    "    assert len(a.shape) == 2 \n",
    "    assert a.shape[0] == a.shape[1] \n",
    "    n = a.shape[0]\n",
    "   \n",
    "    for k in range(0, n-1):\n",
    "       \n",
    "        for i in range(k+1, n):\n",
    "            if a[i,k] != 0.0:\n",
    "                lam = a [i,k]/a[k,k]\n",
    "                a[i,k:n] = a[i,k:n] - lam*a[k,k:n]\n",
    "                \n",
    "    return np.prod(np.diag(a))"
   ]
  },
  {
   "cell_type": "code",
   "execution_count": 48,
   "metadata": {},
   "outputs": [
    {
     "data": {
      "text/plain": [
       "0.5298941357320285"
      ]
     },
     "execution_count": 48,
     "metadata": {},
     "output_type": "execute_result"
    }
   ],
   "source": [
    "determinant(random_matrix1)"
   ]
  },
  {
   "cell_type": "code",
   "execution_count": 49,
   "metadata": {},
   "outputs": [
    {
     "data": {
      "text/plain": [
       "0.5298941357320285"
      ]
     },
     "execution_count": 49,
     "metadata": {},
     "output_type": "execute_result"
    }
   ],
   "source": [
    "# built-in function\n",
    "\n",
    "np.linalg.det(random_matrix1)"
   ]
  },
  {
   "cell_type": "markdown",
   "metadata": {},
   "source": [
    "### 2.5. Inverse of a Matrix"
   ]
  },
  {
   "cell_type": "markdown",
   "metadata": {},
   "source": [
    "#### [2 x 2 Matrix]"
   ]
  },
  {
   "cell_type": "code",
   "execution_count": 50,
   "metadata": {},
   "outputs": [],
   "source": [
    "# without built-in function\n",
    "\n",
    "def getMatrixMinor(m,i,j):\n",
    "    return [row[:j] + row[j+1:] for row in (m[:i]+m[i+1:])]\n",
    "\n",
    "def getMatrixInverse(m):\n",
    "    determinant = np.linalg.det(m)\n",
    "    if len(m) == 2:\n",
    "        return [[m[1][1]/determinant, -1*m[0][1]/determinant],\n",
    "                [-1*m[1][0]/determinant, m[0][0]/determinant]]\n",
    "\n",
    "    #find matrix of cofactors\n",
    "    cofactors = []\n",
    "    for r in range(len(m)):\n",
    "        cofactorRow = []\n",
    "        for c in range(len(m)):\n",
    "            minor = getMatrixMinor(m,r,c)\n",
    "            cofactorRow.append(((-1)**(r+c)) * getMatrixDeternminant(minor))\n",
    "        cofactors.append(cofactorRow)\n",
    "    cofactors = cofactors.transpose()\n",
    "    for r in range(len(cofactors)):\n",
    "        for c in range(len(cofactors)):\n",
    "            cofactors[r][c] = cofactors[r][c]/determinant\n",
    "    return cofactors"
   ]
  },
  {
   "cell_type": "code",
   "execution_count": 51,
   "metadata": {},
   "outputs": [
    {
     "data": {
      "text/plain": [
       "matrix([[ 4.19231957, -6.07626403],\n",
       "        [-0.1643183 ,  1.79146052]])"
      ]
     },
     "execution_count": 51,
     "metadata": {},
     "output_type": "execute_result"
    }
   ],
   "source": [
    "M6=getMatrixInverse(random_matrix3)\n",
    "np.matrix(M6)"
   ]
  },
  {
   "cell_type": "code",
   "execution_count": 52,
   "metadata": {},
   "outputs": [
    {
     "data": {
      "text/plain": [
       "matrix([[ 4.19231957, -6.07626403],\n",
       "        [-0.1643183 ,  1.79146052]])"
      ]
     },
     "execution_count": 52,
     "metadata": {},
     "output_type": "execute_result"
    }
   ],
   "source": [
    "# built-in function\n",
    "\n",
    "M7=np.linalg.inv(random_matrix3)\n",
    "np.matrix(M7)"
   ]
  },
  {
   "cell_type": "markdown",
   "metadata": {},
   "source": [
    "#### n x n matrix"
   ]
  },
  {
   "cell_type": "code",
   "execution_count": 53,
   "metadata": {},
   "outputs": [],
   "source": [
    "def inversematrix(M1,s):\n",
    "    M=np.copy(M1)\n",
    "    I=np.eye(s,dtype='float64')\n",
    "    M=M.astype('float64')\n",
    "\n",
    "    for i in range(0,s):\n",
    "        a1=M[i,i]\n",
    "        I[i]=I[i]/a1\n",
    "        M[i]=M[i]/a1\n",
    "        if i==0:\n",
    "            for j in range(i+1,s):\n",
    "                a2=M[j,i]\n",
    "                I[j]=I[j]-I[i]*a2\n",
    "                M[j]=M[j]-M[i]*a2\n",
    "        else:\n",
    "            L=list(range(0,s))\n",
    "            L.remove(i)\n",
    "            for j in L:\n",
    "                a2=M[j,i]\n",
    "                I[j]=I[j]-I[i]*a2\n",
    "                M[j]=M[j]-M[i]*a2\n",
    "    return I"
   ]
  },
  {
   "cell_type": "code",
   "execution_count": 54,
   "metadata": {},
   "outputs": [
    {
     "data": {
      "text/plain": [
       "matrix([[ 1.33116431, -1.23497725,  1.13396609],\n",
       "        [ 0.        ,  1.53643944, -1.41248055],\n",
       "        [ 0.        ,  0.        ,  0.92270691]])"
      ]
     },
     "execution_count": 54,
     "metadata": {},
     "output_type": "execute_result"
    }
   ],
   "source": [
    "# without built-in function\n",
    "s=random_matrix1.shape\n",
    "inv=inversematrix(random_matrix1,s[0])\n",
    "np.matrix(inv)"
   ]
  },
  {
   "cell_type": "code",
   "execution_count": 55,
   "metadata": {},
   "outputs": [
    {
     "data": {
      "text/plain": [
       "matrix([[ 1.33116431, -1.23497725,  1.13396609],\n",
       "        [ 0.        ,  1.53643944, -1.41248055],\n",
       "        [ 0.        ,  0.        ,  0.92270691]])"
      ]
     },
     "execution_count": 55,
     "metadata": {},
     "output_type": "execute_result"
    }
   ],
   "source": [
    "# built-in function\n",
    "inv1=np.linalg.inv(random_matrix1)\n",
    "np.matrix(inv1)"
   ]
  }
 ],
 "metadata": {
  "kernelspec": {
   "display_name": "Python 3",
   "language": "python",
   "name": "python3"
  },
  "language_info": {
   "codemirror_mode": {
    "name": "ipython",
    "version": 3
   },
   "file_extension": ".py",
   "mimetype": "text/x-python",
   "name": "python",
   "nbconvert_exporter": "python",
   "pygments_lexer": "ipython3",
   "version": "3.7.4"
  }
 },
 "nbformat": 4,
 "nbformat_minor": 2
}
