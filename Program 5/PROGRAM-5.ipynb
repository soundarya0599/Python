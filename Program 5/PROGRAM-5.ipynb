{
 "cells": [
  {
   "cell_type": "markdown",
   "metadata": {},
   "source": [
    "# <center> PROGRAM 5: REGULAR EXPRESSIONS IN PYTHON </center>\n",
    "---"
   ]
  },
  {
   "cell_type": "markdown",
   "metadata": {},
   "source": [
    "**Requirement:**\n",
    "\n",
    "    Mr. Sherlock Holmes is investigating a suicide case of Mr.Kalman a noted celebrity.He strongly belives it is murder.But he needs to come up with strong evidence(s) to prove it. He receives an anoymous letter which contains some random words pasted from the newspaper letters.As you are the budding data analysts and RE experts he expects you to help him in finding out the real culprit. Please do help him. ALL THE BEST!\n",
    "\n",
    "**Random words received are:** f,ope,ife,Mon,50,+2,@,Kalman.org,toranto,Ind,963819,SIA,league,dam,xer,ugs,ape,Cor,bit and end.\n",
    "\n",
    "**Note:** You are free to create your own crime scene and characters."
   ]
  },
  {
   "cell_type": "markdown",
   "metadata": {},
   "source": [
    "***********************************************************************************************************\n",
    "## BBC: Breaking news"
   ]
  },
  {
   "cell_type": "markdown",
   "metadata": {},
   "source": [
    "##### Mr. Kalman, a popular Indian sportsman! found dead at Hotel in China, East Asia.\n",
    "Chinese Crime Branch has specially appointed Mr. Sherlock Holmes to handle the case. Kalman found death by Hanging himself. Holmes investigates Kalman's suicide case in his direction, suspicious loss suspected of being a murder. However, he requires to come up with vital pieces of evidence to prove it. \n",
    "\n",
    " "
   ]
  },
  {
   "cell_type": "markdown",
   "metadata": {},
   "source": [
    "---"
   ]
  },
  {
   "cell_type": "markdown",
   "metadata": {},
   "source": [
    "## Case details\n",
    "\n",
    "Mr. Holmes Started the investigation from the crime spot. He has recognized there was no vital clue that he was expecting. Still, Holmes continued the hunt on collecting hints. Shockingly he spotted Kalman's dairy, which was left open with dropped ink marks. Mr. Holmes firmly believed that the dairy would be his crucial evidence for this case. \n",
    "\n",
    "Soon he folded all his evidence and left the space quietly. Mr. Holmes started reading Kalman's dairy passionately and wondered how Mr. Kalman struggled and lifted success in his whole life. Match-fixing and game betting was one addictive activity that pushed Kalman to end life into the struggle. At the time, when Holmes built his initial inquiry. He was surprised by an anonymous letter that contains some random words pasted from the newspaper letters.\n",
    "\n",
    "---"
   ]
  },
  {
   "cell_type": "markdown",
   "metadata": {},
   "source": [
    "## Anonymous letter \n"
   ]
  },
  {
   "cell_type": "code",
   "execution_count": 2,
   "metadata": {},
   "outputs": [],
   "source": [
    "import re\n",
    "import numpy as np\n",
    "import random\n",
    "\n",
    "def letter_list():\n",
    "    print('At the moment, Holmes receives an unknown anonymous letter that contains some random words pasted from the newspaper letters.')\n",
    "    print(\"\\n\\n\")\n",
    "    teams_list = [\"\", \"\", \"\", \"\", \"\"] \n",
    "    data = np.array([['xer', 'ope', 'ife', 'mon', 'ind'], ['963819', 'sia', 'f', 'dam', 'league'], ['ugs', 'ape', 'cor', 'bit' ,'end']])\n",
    "\n",
    "    a=\"Random words received on anonymous letter\"\n",
    "    print(\"\\t\\t\"+\"*\"+'-'*75+\"*\")\n",
    "    print(\"\\t\\t\"+\"|{:^75s}|\".format(a.upper()))\n",
    "    print(\"\\t\\t\"+\"*\"+'-'*75+\"*\")\n",
    "\n",
    "    row_format =\"{:>15}\" * (len(teams_list) + 1) \n",
    "    print(row_format.format(\"\", *teams_list)) \n",
    "\n",
    "    for team, row in zip(teams_list, data): \n",
    "        print(row_format.format(team, *row))\n"
   ]
  },
  {
   "cell_type": "code",
   "execution_count": 3,
   "metadata": {},
   "outputs": [
    {
     "name": "stdout",
     "output_type": "stream",
     "text": [
      "At the moment, Holmes receives an unknown anonymous letter that contains some random words pasted from the newspaper letters.\n",
      "\n",
      "\n",
      "\n",
      "\t\t*---------------------------------------------------------------------------*\n",
      "\t\t|                 RANDOM WORDS RECEIVED ON ANONYMOUS LETTER                 |\n",
      "\t\t*---------------------------------------------------------------------------*\n",
      "                                                                                          \n",
      "                           xer            ope            ife            mon            ind\n",
      "                        963819            sia              f            dam         league\n",
      "                           ugs            ape            cor            bit            end\n"
     ]
    }
   ],
   "source": [
    "letter_list()"
   ]
  },
  {
   "cell_type": "markdown",
   "metadata": {},
   "source": [
    "### Mr. Holmes way of investigation : He finds Kalman's Diary"
   ]
  },
  {
   "cell_type": "code",
   "execution_count": 4,
   "metadata": {},
   "outputs": [],
   "source": [
    "def Last_page():\n",
    "    a_file = open(\"WOLFOFWALLSTREET.txt\", \"r\")\n",
    "\n",
    "    list_of_lists = []\n",
    "    for line in a_file:\n",
    "        stripped_line = line.strip()\n",
    "        line_list = stripped_line.split()\n",
    "\n",
    "    a_file.close()\n",
    "\n",
    "    return line_list"
   ]
  },
  {
   "cell_type": "code",
   "execution_count": 5,
   "metadata": {},
   "outputs": [
    {
     "name": "stdout",
     "output_type": "stream",
     "text": [
      "\n",
      "\t*****************************************************************************************************\n",
      "\t\t\t\t\t\t KALMAN'S DIARY \n",
      "\n",
      "\n",
      " 26th of october ( monday ),2020:As usual my day started with a hot bed coffee. took bath and I stared with my routine. I used to go for walking but due to the pandemic I am unable to go out. Every corner of the world is talking about this coronavirus. I am worried about the uncertainty of the life. I am blessed as I will be able to travel to toronto by the next week with my wife in a private jet. Usually I will keep my diary in the book shelf but today by mistake I kept it in my cupboard. damn !! I am growing older and I do not remember certain things. As we were planning to go to toronto next week, I suddenly remembered my last trip with my wife to Coorg. It was such a beautiful memory. We had a nice time there.  Whenever I tease her, she used to scold me like. You are such a monster. I loved her very much and she was everything to me. We are almost 60 and we tried everything in Coorg. On the 2nd day of our trip, all of our plans were spoiled due to heavy rain. There was stagnant water outside our roomâ€™s window and I do not actually believe that we did such a childish act. We were making paper boats to play in that stagnant water. We really acted like babies. The next day a friend of mine came to visit us and he accompanied with us to wildlife sanctuary My wife was endoscopic surgery patient and she was very afraid of wild animals. I made fun of her by comparing her with the monkey Anyways we had a great time there. Later that evening we went for a site seeing where we enjoyed the lake view using the telescope. Our trip was unforgettable. I hope that my next visit to toronto will be very exciting as we I and my â€˜colleaguesâ€™ have planned to go for a league match. I am much waiting for the next week to go my favorite hotel and my favorite room number 750. I am a bit emotional and sentimental so I always wish to stay in the same room number. More than 5,00,00 people have died due to coronavirus, but god has blessed me with good health and I am able to lead a very highlife with my loved one. My life had many hardships and I managed to overcome them. I hope my trip to toronto will be memorable one as I will spend time with my beloved wife. Note: 50 50000 750 +2 +21 @ @kalman.org sia asian asia euroleague damaged xerox fireplugs bugs paper grape escape correct bit coin end coffee flower envelope rabbit girlfriend trend weekend lender wallpaper habit corncakes corpsmen escaped mugs tape kidnaper fan rope friend life knife money jugs lemon monsoon monster drugs window blind boxer exercise.\n",
      "\n",
      "\t*****************************************************************************************************\n"
     ]
    }
   ],
   "source": [
    "print(\"\\n\\t*****************************************************************************************************\")\n",
    "print(\"\\t\\t\\t\\t\\t\\t KALMAN'S DIARY \")\n",
    "a_file = open(\"WOLFOFWALLSTREET.txt\",\"r\")\n",
    "for line in a_file:\n",
    "    stripped_line = line.strip()\n",
    "print(\"\\n\\n\",stripped_line)\n",
    "print(\"\\n\\t*****************************************************************************************************\")"
   ]
  },
  {
   "cell_type": "markdown",
   "metadata": {},
   "source": [
    "### Mr. Holmes suggests hints related to case and anonymous letter"
   ]
  },
  {
   "cell_type": "code",
   "execution_count": 6,
   "metadata": {},
   "outputs": [],
   "source": [
    "def first_word():\n",
    "    s= \" \"\n",
    "    ch=\"yes\"\n",
    "    while(ch==\"yes\"):\n",
    "        t=True\n",
    "        while (t):\n",
    "            txt = input(\"Enter the words with ope :\")\n",
    "            x = re.findall(\"(ope)\", txt)                        # Findall\n",
    "            if x == []:\n",
    "                t=True\n",
    "            else:\n",
    "                s=s+txt+\" \"\n",
    "                t=False   \n",
    "        ch=input(\"Do you want to continue:\")\n",
    "    return s"
   ]
  },
  {
   "cell_type": "code",
   "execution_count": 7,
   "metadata": {},
   "outputs": [],
   "source": [
    "def second_word():\n",
    "    s=\" \"\n",
    "    ch=\"yes\"\n",
    "    while(ch==\"yes\"):\n",
    "        t=True\n",
    "        while (t):\n",
    "            txt = input(\"Enter the 5 letter words ending with xer :\")\n",
    "            x = re.findall(\"..xer\", txt)                        # Findall\n",
    "            if x == []:\n",
    "                t=True\n",
    "            else:\n",
    "                s=s+txt+\" \"\n",
    "                t=False   \n",
    "        ch=input(\"Do you want to continue:\")\n",
    "    return s"
   ]
  },
  {
   "cell_type": "code",
   "execution_count": 8,
   "metadata": {},
   "outputs": [],
   "source": [
    "def third_word():\n",
    "    s=\" \"\n",
    "    ch=\"yes\"\n",
    "    while(ch==\"yes\"):\n",
    "        t=True\n",
    "        while (t):\n",
    "            txt = input(\"Enter the words ending with ife :\")\n",
    "            x = re.findall(\"ife$\", txt)                        # Findall\n",
    "            if x == []:\n",
    "                t=True\n",
    "            else:\n",
    "                s=s+txt+\" \"\n",
    "                t=False   \n",
    "        ch=input(\"Do you want to continue:\")\n",
    "    return s"
   ]
  },
  {
   "cell_type": "code",
   "execution_count": 9,
   "metadata": {},
   "outputs": [],
   "source": [
    "def fourth_word():\n",
    "    s=\" \"\n",
    "    ch=\"yes\"\n",
    "    while(ch==\"yes\"):\n",
    "        t=True\n",
    "        while (t):\n",
    "            txt = input(\"Enter the words staring with mon :\")\n",
    "            x = re.findall(r\"(mon|tues|wednes|thurs|fri|sat|sun)(day)\", txt)                        # Findall\n",
    "            if x == []:\n",
    "                t=True\n",
    "            else:\n",
    "                s=s+txt+\" \"\n",
    "                t=False \n",
    "\n",
    "        ch=input(\"Do you want to continue:\")\n",
    "    return s"
   ]
  },
  {
   "cell_type": "code",
   "execution_count": 10,
   "metadata": {},
   "outputs": [],
   "source": [
    "def fifth_word():\n",
    "    s=\" \"\n",
    "    ch=\"yes\"\n",
    "    while(ch==\"yes\"):\n",
    "        t=True\n",
    "        while (t):\n",
    "            txt = input(\"Enter the words ending with ind :\")\n",
    "            x = re.findall(\"\\w+ind\", txt)                       # Findall\n",
    "            if x == []:\n",
    "                t=True\n",
    "            else:\n",
    "                s=s+txt+\" \"\n",
    "                t=False   \n",
    "        ch=input(\"Do you want to continue:\")\n",
    "    return s"
   ]
  },
  {
   "cell_type": "code",
   "execution_count": 11,
   "metadata": {},
   "outputs": [],
   "source": [
    "def six_word():\n",
    "    s=\" \"\n",
    "    ch=\"yes\"\n",
    "    while(ch==\"yes\"):\n",
    "        t=True\n",
    "        while (t):\n",
    "            txt = input(\"Enter the number with 963819**** :\")\n",
    "            x = re.findall(\"\\d{10}\", txt)                       # Findall\n",
    "            if x == []:\n",
    "                t=True\n",
    "            else:\n",
    "                s=s+txt+\" \"\n",
    "                t=False   \n",
    "        ch=input(\"Do you want to continue:\")   \n",
    "    return s"
   ]
  },
  {
   "cell_type": "code",
   "execution_count": 12,
   "metadata": {},
   "outputs": [],
   "source": [
    "def seven_word():\n",
    "    s=\" \"\n",
    "    ch=\"yes\"\n",
    "    while(ch==\"yes\"):\n",
    "        t=True\n",
    "        while (t):\n",
    "            txt = input(\"Enter the words with sia :\")\n",
    "            x = re.findall(\"\\w+[a-z]+\", txt)                    # Findall\n",
    "            if x == []:\n",
    "                t=True\n",
    "            else:\n",
    "                s=s+txt+\" \"\n",
    "                t=False   \n",
    "        ch=input(\"Do you want to continue:\")\n",
    "    return s"
   ]
  },
  {
   "cell_type": "code",
   "execution_count": 13,
   "metadata": {},
   "outputs": [],
   "source": [
    "def eight_word():\n",
    "    s=\" \"\n",
    "    ch=\"yes\"\n",
    "    while(ch==\"yes\"):\n",
    "        t=True\n",
    "        while (t):\n",
    "            txt = input(\"Enter the words with f :\")\n",
    "            x = re.findall(\"(f)\", txt)                           # Findall\n",
    "            if x == []:\n",
    "                t=True\n",
    "            else:\n",
    "                s=s+txt+\" \"\n",
    "                t=False   \n",
    "        ch=input(\"Do you want to continue:\")\n",
    "    return s"
   ]
  },
  {
   "cell_type": "code",
   "execution_count": 14,
   "metadata": {},
   "outputs": [],
   "source": [
    "def nine_word():\n",
    "    s=\" \"\n",
    "    ch=\"yes\"\n",
    "    while(ch==\"yes\"):\n",
    "        t=True\n",
    "        while (t):\n",
    "            txt = input(\"Enter the words with dam :\")\n",
    "            x = re.findall(r\"\\bdam\", txt)                            # Findall\n",
    "            if x == []:\n",
    "                t=True\n",
    "            else:\n",
    "                s=s+txt+\" \"\n",
    "                t=False   \n",
    "        ch=input(\"Do you want to continue:\")\n",
    "    return s"
   ]
  },
  {
   "cell_type": "code",
   "execution_count": 15,
   "metadata": {},
   "outputs": [],
   "source": [
    "def ten_word():\n",
    "    s=\" \"\n",
    "    ch=\"yes\"\n",
    "    while(ch==\"yes\"):\n",
    "        t=True\n",
    "        while (t):\n",
    "            txt = input(\"Enter the words with league :\")\n",
    "            x = re.match(r\"league\\b\", txt)                        # match\n",
    "            if x == []:\n",
    "                t=True\n",
    "            else:\n",
    "                s=s+txt+\" \"\n",
    "                t=False   \n",
    "        ch=input(\"Do you want to continue:\")\n",
    "    return s"
   ]
  },
  {
   "cell_type": "code",
   "execution_count": 16,
   "metadata": {},
   "outputs": [],
   "source": [
    "def eleven_word():\n",
    "    s=\" \"\n",
    "    ch=\"yes\"\n",
    "    while(ch==\"yes\"):\n",
    "        t=True\n",
    "        while (t):\n",
    "            txt = input(\"Enter the words with ugs :\")\n",
    "            x = re.findall(\"\\D{5}\", txt)                          # Findall\n",
    "            if x == []:\n",
    "                t=True\n",
    "            else:\n",
    "                s=s+txt+\" \"\n",
    "                t=False   \n",
    "        ch=input(\"Do you want to continue:\")\n",
    "    return s"
   ]
  },
  {
   "cell_type": "code",
   "execution_count": 17,
   "metadata": {},
   "outputs": [],
   "source": [
    "def tewlve_word():\n",
    "    s=\" \"\n",
    "    ch=\"yes\"\n",
    "    while(ch==\"yes\"):\n",
    "        t=True\n",
    "        while (t):\n",
    "            txt = input(\"Enter the words with cor :\")\n",
    "            x = re.findall(\"\\w\", txt)                              # Findall\n",
    "            if x == []:\n",
    "                t=True\n",
    "            else:\n",
    "                s=s+txt+\" \"\n",
    "                t=False   \n",
    "        ch=input(\"Do you want to continue:\")\n",
    "    return s"
   ]
  },
  {
   "cell_type": "code",
   "execution_count": 18,
   "metadata": {},
   "outputs": [],
   "source": [
    "def thirteen_word():\n",
    "    s=\" \"\n",
    "    ch=\"yes\"\n",
    "    while(ch==\"yes\"):\n",
    "        t=True\n",
    "        while (t):\n",
    "            txt = input(\"Enter the words with ape  :\")\n",
    "            x = re.findall(\"\\w+ape*\", txt)                             # Findall\n",
    "            if x == []:\n",
    "                t=True\n",
    "            else:\n",
    "                s=s+txt+\" \"\n",
    "                t=False   \n",
    "        ch=input(\"Do you want to continue:\")\n",
    "    return s"
   ]
  },
  {
   "cell_type": "code",
   "execution_count": 19,
   "metadata": {},
   "outputs": [],
   "source": [
    "def fourteen_word():\n",
    "    s=\" \"\n",
    "    ch=\"yes\"\n",
    "    while(ch==\"yes\"):\n",
    "        t=True\n",
    "        while (t):\n",
    "            txt = input(\"Enter the words with end  :\")\n",
    "            x = re.findall(\"end\\Z\", txt)                            # Findall\n",
    "            if x == []:\n",
    "                t=True\n",
    "            else:\n",
    "                s=s+txt+\" \"\n",
    "                t=False   \n",
    "        ch=input(\"Do you want to continue:\")\n",
    "    return s"
   ]
  },
  {
   "cell_type": "code",
   "execution_count": 20,
   "metadata": {},
   "outputs": [],
   "source": [
    "def fifteen_word():\n",
    "    s=\" \"\n",
    "    ch=\"yes\"\n",
    "    while(ch==\"yes\"):\n",
    "        t=True\n",
    "        while (t):\n",
    "            txt = input(\"Enter the words with bit:\")\n",
    "            x = re.findall(\"bit+\", txt)                         # Findall\n",
    "            if x == []:\n",
    "                t=True\n",
    "            else:\n",
    "                s=s+txt+\" \"\n",
    "                t=False   \n",
    "        ch=input(\"Do you want to continue:\")\n",
    "    return s"
   ]
  },
  {
   "cell_type": "code",
   "execution_count": 21,
   "metadata": {},
   "outputs": [],
   "source": [
    "def user_words():\n",
    "    words = []\n",
    "    ch = 'yes'\n",
    "    i = 1\n",
    "    print(\" ENTER THE WORDS: \\n\\n\")\n",
    "    while ch == 'yes':\n",
    "        if i== 1:\n",
    "            print(\"\\033[1m\"+\"Words with ope\"+\"\\033[0m\")\n",
    "            print(\"================\")\n",
    "            word=first_word()\n",
    "        elif i==2:\n",
    "            print(\"\\033[1m\"+\"Words with xer\"+\"\\033[0m\")\n",
    "            print(\"================\")\n",
    "            word=second_word()\n",
    "        elif i==3:\n",
    "            print(\"\\033[1m\"+\"Words with ife\"+\"\\033[0m\")\n",
    "            print(\"================\")\n",
    "            word=third_word()\n",
    "        elif i==4:\n",
    "            print(\"\\033[1m\"+\"Words with mon\"+\"\\033[0m\")\n",
    "            print(\"================\")\n",
    "            word=fourth_word()\n",
    "        elif i==5:\n",
    "            print(\"\\033[1m\"+\"Words with ind\"+\"\\033[0m\")\n",
    "            print(\"================\")\n",
    "            word=fifth_word()\n",
    "        elif i==6:\n",
    "            print(\"\\033[1m\"+\"Words with 963819\"+\"\\033[0m\")\n",
    "            print(\"================\")\n",
    "            word=six_word()\n",
    "        elif i==7:\n",
    "            print(\"\\033[1m\"+\"Words with sia\"+\"\\033[0m\")\n",
    "            print(\"================\")\n",
    "            word=seven_word()\n",
    "        elif i==8:\n",
    "            print(\"\\033[1m\"+\"Words with f\"+\"\\033[0m\")\n",
    "            print(\"================\")\n",
    "            word=eight_word()\n",
    "        elif i==9:\n",
    "            print(\"\\033[1m\"+\"Words with dam\"+\"\\033[0m\")\n",
    "            print(\"================\")\n",
    "            word=nine_word()\n",
    "        elif i==10:\n",
    "            print(\"\\033[1m\"+\"Words with league\"+\"\\033[0m\")\n",
    "            print(\"================\")\n",
    "            word=ten_word()\n",
    "        elif i==11:\n",
    "            print(\"\\033[1m\"+\"Words with ugs\"+\"\\033[0m\")\n",
    "            print(\"====================\")\n",
    "            word=eleven_word()\n",
    "        elif i==12:\n",
    "            print(\"\\033[1m\"+\"Words with cor\"+\"\\033[0m\")\n",
    "            print(\"====================\")\n",
    "            word=tewlve_word()\n",
    "        elif i==13:\n",
    "            print(\"\\033[1m\"+\"Words with ape\"+\"\\033[0m\")\n",
    "            print(\"====================\")\n",
    "            word=thirteen_word()\n",
    "        elif i==14:\n",
    "            print(\"\\033[1m\"+\"Words with end\"+\"\\033[0m\")\n",
    "            print(\"====================\")\n",
    "            word=fourteen_word()\n",
    "        elif i==15:\n",
    "            print(\"\\033[1m\"+\"Words with bit\"+\"\\033[0m\")\n",
    "            print(\"====================\")\n",
    "            word=fifteen_word()\n",
    "        else:\n",
    "            break\n",
    "\n",
    "        x = re.split(\"\\s\", word)                       # split\n",
    "        for j in x:\n",
    "            if j!='':\n",
    "                words.append(j)\n",
    "        \n",
    "        ch = input(\"\\n\"+\"\\033[1m\"+\"Do you want to continue with next match:\"+\"\\033[0m\")\n",
    "        print(\"**************************************************************************\")\n",
    "        if ch=='yes':\n",
    "            i=i+1\n",
    "        else:\n",
    "            break\n",
    "        while('' in words) : \n",
    "            words.remove('') \n",
    "\n",
    "    return words"
   ]
  },
  {
   "cell_type": "markdown",
   "metadata": {},
   "source": [
    "### CLUES FOR INVESTIGATION"
   ]
  },
  {
   "cell_type": "code",
   "execution_count": 22,
   "metadata": {},
   "outputs": [],
   "source": [
    "def last_page_text(Last_Page):\n",
    "    txt =''\n",
    "    for i in Last_Page:\n",
    "        txt+=i\n",
    "        txt+=' '\n",
    "    return txt"
   ]
  },
  {
   "cell_type": "code",
   "execution_count": 23,
   "metadata": {},
   "outputs": [],
   "source": [
    "def word_find(i,txt):\n",
    "    l = ''\n",
    "    try:\n",
    "        assert re.search(i, txt)                        # Search\n",
    "        l+=i  \n",
    "        return l\n",
    "    except (AttributeError,AssertionError):\n",
    "        pass"
   ]
  },
  {
   "cell_type": "code",
   "execution_count": 24,
   "metadata": {},
   "outputs": [],
   "source": [
    "def evidence_list(words,txt,evidence):\n",
    "    for i in words:\n",
    "        w=word_find(i,txt)\n",
    "        if w!=None:\n",
    "            evidence.append(w)\n",
    "\n",
    "    return evidence"
   ]
  },
  {
   "cell_type": "code",
   "execution_count": 25,
   "metadata": {},
   "outputs": [],
   "source": [
    "def investigation():\n",
    "    evidence=[]\n",
    "    Last_Page = Last_page()\n",
    "    words=user_words()\n",
    "    txt=last_page_text(Last_Page)\n",
    "    evidence_list(words,txt,evidence)\n",
    "  \n",
    "    \n",
    "    t=True\n",
    "    while(t):\n",
    "        random.shuffle(evidence)                                   # shuffle\n",
    "        print(\"\\n\\t\"+\"\\033[1m\"+\"Matched words are:\"+\"\\033[0m\")\n",
    "        print(\"\\t=====================\")\n",
    "        for i in evidence:\n",
    "            print(\"\\t\",i)\n",
    "        ch=input(\"\\n Do you want to shuffle list:\")\n",
    "        if ch == \"yes\":\n",
    "            t=True\n",
    "        else:\n",
    "            t=False\n",
    "            pass\n",
    "    return evidence"
   ]
  },
  {
   "cell_type": "code",
   "execution_count": 26,
   "metadata": {},
   "outputs": [
    {
     "name": "stdout",
     "output_type": "stream",
     "text": [
      "\u001b[1mWords with ope\u001b[0m\n",
      "====================\n",
      "Enter the words with ope :rope\n",
      "Do you want to continue:no\n",
      "\n",
      "Do you want to continue with next match:yes\n",
      "**************************************************************************\n",
      "\u001b[1mWords with xer\u001b[0m\n",
      "====================\n",
      "Enter the 5 letter words ending with xer :fixer\n",
      "Do you want to continue:no\n",
      "\n",
      "Do you want to continue with next match:yes\n",
      "**************************************************************************\n",
      "\u001b[1mWords with ife\u001b[0m\n",
      "====================\n",
      "Enter the words ending with ife :wife\n",
      "Do you want to continue:no\n",
      "\n",
      "Do you want to continue with next match:yes\n",
      "**************************************************************************\n",
      "\u001b[1mWords with mon\u001b[0m\n",
      "====================\n",
      "Enter the words staring with mon :monday\n",
      "Do you want to continue:no\n",
      "\n",
      "Do you want to continue with next match:yes\n",
      "**************************************************************************\n",
      "\u001b[1mWords with ind\u001b[0m\n",
      "====================\n",
      "Enter the words ending with ind :blind\n",
      "Do you want to continue:no\n",
      "\n",
      "Do you want to continue with next match:yes\n",
      "**************************************************************************\n",
      "\u001b[1mWords with 963819\u001b[0m\n",
      "====================\n",
      "Enter the number with 963819**** :9638191234\n",
      "Do you want to continue:no\n",
      "\n",
      "Do you want to continue with next match:yes\n",
      "**************************************************************************\n",
      "\u001b[1mWords with sia\u001b[0m\n",
      "====================\n",
      "Enter the words with sia :asia\n",
      "Do you want to continue:no\n",
      "\n",
      "Do you want to continue with next match:yes\n",
      "**************************************************************************\n",
      "\u001b[1mWords with f\u001b[0m\n",
      "====================\n",
      "Enter the words with f :fan\n",
      "Do you want to continue:no\n",
      "\n",
      "Do you want to continue with next match:yes\n",
      "**************************************************************************\n",
      "\u001b[1mWords with dam\u001b[0m\n",
      "====================\n",
      "Enter the words with dam :damage\n",
      "Do you want to continue:no\n",
      "\n",
      "Do you want to continue with next match:yes\n",
      "**************************************************************************\n",
      "\u001b[1mWords with league\u001b[0m\n",
      "====================\n",
      "Enter the words with league :league\n",
      "Do you want to continue:no\n",
      "\n",
      "Do you want to continue with next match:yes\n",
      "**************************************************************************\n",
      "\u001b[1mWords with ugs\u001b[0m\n",
      "====================\n",
      "Enter the words with ugs :drugs\n",
      "Do you want to continue:no\n",
      "\n",
      "Do you want to continue with next match:yes\n",
      "**************************************************************************\n",
      "\u001b[1mWords with cor\u001b[0m\n",
      "====================\n",
      "Enter the words with cor :corps\n",
      "Do you want to continue:no\n",
      "\n",
      "Do you want to continue with next match:yes\n",
      "**************************************************************************\n",
      "\u001b[1mWords with ape\u001b[0m\n",
      "====================\n",
      "Enter the words with ape  :kidnaper\n",
      "Do you want to continue:no\n",
      "\n",
      "Do you want to continue with next match:yes\n",
      "**************************************************************************\n",
      "\u001b[1mWords with end\u001b[0m\n",
      "====================\n",
      "Enter the words with end  :friend\n",
      "Do you want to continue:no\n",
      "\n",
      "Do you want to continue with next match:yes\n",
      "**************************************************************************\n",
      "\u001b[1mWords with bit\u001b[0m\n",
      "====================\n",
      "Enter the words with bit:bitbit\n",
      "Do you want to continue:no\n",
      "\n",
      "Do you want to continue with next match:yes\n",
      "**************************************************************************\n",
      "\n",
      "\t\u001b[1mMatched words are:\u001b[0m\n",
      "\t=====================\n",
      "\t corps\n",
      "\t kidnaper\n",
      "\t drugs\n",
      "\t monday\n",
      "\t fan\n",
      "\t wife\n",
      "\t friend\n",
      "\t asia\n",
      "\t damage\n",
      "\t rope\n",
      "\t blind\n",
      "\t league\n",
      "\n",
      " Do you want to shuffle list:yes\n",
      "\n",
      "\t\u001b[1mMatched words are:\u001b[0m\n",
      "\t=====================\n",
      "\t monday\n",
      "\t asia\n",
      "\t kidnaper\n",
      "\t friend\n",
      "\t fan\n",
      "\t damage\n",
      "\t corps\n",
      "\t blind\n",
      "\t drugs\n",
      "\t league\n",
      "\t wife\n",
      "\t rope\n",
      "\n",
      " Do you want to shuffle list:yes\n",
      "\n",
      "\t\u001b[1mMatched words are:\u001b[0m\n",
      "\t=====================\n",
      "\t wife\n",
      "\t drugs\n",
      "\t corps\n",
      "\t league\n",
      "\t asia\n",
      "\t monday\n",
      "\t kidnaper\n",
      "\t blind\n",
      "\t fan\n",
      "\t friend\n",
      "\t rope\n",
      "\t damage\n",
      "\n",
      " Do you want to shuffle list:no\n"
     ]
    }
   ],
   "source": [
    "final=[]\n",
    "final=investigation()"
   ]
  },
  {
   "cell_type": "markdown",
   "metadata": {},
   "source": [
    "### UPDATING MORE DETAILS ON HINTS"
   ]
  },
  {
   "cell_type": "code",
   "execution_count": 27,
   "metadata": {},
   "outputs": [
    {
     "data": {
      "text/plain": [
       "['wife',\n",
       " 'drugs',\n",
       " 'corps',\n",
       " 'league',\n",
       " 'asia',\n",
       " 'monday',\n",
       " 'kidnaper',\n",
       " 'blind',\n",
       " 'fan',\n",
       " 'friend',\n",
       " 'rope',\n",
       " 'damage']"
      ]
     },
     "execution_count": 27,
     "metadata": {},
     "output_type": "execute_result"
    }
   ],
   "source": [
    "final"
   ]
  },
  {
   "cell_type": "code",
   "execution_count": 28,
   "metadata": {},
   "outputs": [],
   "source": [
    "txt = last_page_text(final)"
   ]
  },
  {
   "cell_type": "code",
   "execution_count": 48,
   "metadata": {},
   "outputs": [],
   "source": [
    "Case = re.sub('rope','nylon_rope',txt)               # sub\n",
    "Case = re.sub('wife','kalman_wife',Case)\n",
    "Case = re.sub('drugs','poison_drugs',Case)\n",
    "Case = re.sub('corps','corps_men',Case)\n",
    "Case = re.sub('league','match_league',Case)\n",
    "Case = re.sub('blind','blindly',Case)\n",
    "Case = re.sub('fan','hung_in_fan',Case)"
   ]
  },
  {
   "cell_type": "code",
   "execution_count": 49,
   "metadata": {},
   "outputs": [
    {
     "name": "stdout",
     "output_type": "stream",
     "text": [
      "\n",
      "Final Clues aboubt the case:\n",
      "=============================\n",
      "\n",
      "kalman_wife\n",
      "poison_drugs\n",
      "corps_men\n",
      "match_league\n",
      "asia\n",
      "monday\n",
      "kidnaper\n",
      "blindly\n",
      "hung_in_fan\n",
      "friend\n",
      "nylon_rope\n",
      "damage\n"
     ]
    }
   ],
   "source": [
    "print(\"\\nFinal Clues aboubt the case:\")\n",
    "print(\"=============================\\n\")\n",
    "w=[]\n",
    "x = re.split(\"\\s\", Case)                       # split\n",
    "for j in x:\n",
    "    if j!='':\n",
    "        w.append(j)\n",
    "for i in w:\n",
    "    print(i)"
   ]
  },
  {
   "cell_type": "markdown",
   "metadata": {},
   "source": [
    "## Mr. Holmes Further Takes Actions on Clues\n",
    "\n",
    "KALMAN'S WIFE AND HIS FRIENDS WILL BE CALLED FOR FURTHER INVESTIGATION."
   ]
  }
 ],
 "metadata": {
  "kernelspec": {
   "display_name": "Python 3",
   "language": "python",
   "name": "python3"
  },
  "language_info": {
   "codemirror_mode": {
    "name": "ipython",
    "version": 3
   },
   "file_extension": ".py",
   "mimetype": "text/x-python",
   "name": "python",
   "nbconvert_exporter": "python",
   "pygments_lexer": "ipython3",
   "version": "3.7.4"
  }
 },
 "nbformat": 4,
 "nbformat_minor": 4
}
